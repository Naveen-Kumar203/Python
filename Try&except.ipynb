{
  "nbformat": 4,
  "nbformat_minor": 0,
  "metadata": {
    "colab": {
      "name": "Try&except.ipynb",
      "provenance": [],
      "collapsed_sections": [],
      "authorship_tag": "ABX9TyMGnKytqgEgUIFPayGcoBRu",
      "include_colab_link": true
    },
    "kernelspec": {
      "name": "python3",
      "display_name": "Python 3"
    }
  },
  "cells": [
    {
      "cell_type": "markdown",
      "metadata": {
        "id": "view-in-github",
        "colab_type": "text"
      },
      "source": [
        "<a href=\"https://colab.research.google.com/github/Naveen-Kumar203/Python/blob/main/Try%26except.ipynb\" target=\"_parent\"><img src=\"https://colab.research.google.com/assets/colab-badge.svg\" alt=\"Open In Colab\"/></a>"
      ]
    },
    {
      "cell_type": "code",
      "metadata": {
        "colab": {
          "base_uri": "https://localhost:8080/"
        },
        "id": "SjKIxzsqMaie",
        "outputId": "178b680e-c00f-4d81-f41f-1b35c029e524"
      },
      "source": [
        "\r\n",
        "#Try \r\n",
        "x= 100\r\n",
        "try:\r\n",
        "  print(x)\r\n",
        "except:\r\n",
        "  print(\"An exception occurred\")\r\n",
        "else:\r\n",
        "  print(\"Else\")\r\n",
        "\r\n",
        "finally:\r\n",
        "  print(\"Try nand except is printed\")\r\n",
        "\r\n"
      ],
      "execution_count": 2,
      "outputs": [
        {
          "output_type": "stream",
          "text": [
            "100\n",
            "Else\n",
            "Try nand except is printed\n"
          ],
          "name": "stdout"
        }
      ]
    }
  ]
}