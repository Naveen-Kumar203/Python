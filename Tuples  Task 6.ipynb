{
 "cells": [
  {
   "cell_type": "markdown",
   "metadata": {},
   "source": [
    "### Add and remove the elements from a tuple"
   ]
  },
  {
   "cell_type": "code",
   "execution_count": 1,
   "metadata": {},
   "outputs": [
    {
     "data": {
      "text/plain": [
       "list"
      ]
     },
     "execution_count": 1,
     "metadata": {},
     "output_type": "execute_result"
    }
   ],
   "source": [
    "rand_tup = (100,20, 22.5, 55, 'Maths')\n",
    "new_tup = list(rand_tup)\n",
    "type(new_tup) \n"
   ]
  },
  {
   "cell_type": "code",
   "execution_count": 17,
   "metadata": {},
   "outputs": [
    {
     "name": "stdout",
     "output_type": "stream",
     "text": [
      "[200, 200, 200, 20, 22.5, 55, 'Maths', 100, 1000]\n",
      "[200, 200, 200, 20, 22.5, 55, 'Maths', 1000]\n"
     ]
    }
   ],
   "source": [
    "#adding element in new element\n",
    "\n",
    "new_tup.append(1000)\n",
    "new_tup.insert(1,200)\n",
    "print(new_tup)\n",
    "new_tup.remove(100)\n",
    "print(new_tup)"
   ]
  },
  {
   "cell_type": "code",
   "execution_count": 16,
   "metadata": {
    "scrolled": true
   },
   "outputs": [
    {
     "name": "stdout",
     "output_type": "stream",
     "text": [
      "[200, 200, 20, 22.5, 55, 'Maths', 100]\n"
     ]
    }
   ],
   "source": [
    "tupl1=tuple(new_tup)\n",
    "print(new_tup)"
   ]
  },
  {
   "cell_type": "code",
   "execution_count": null,
   "metadata": {},
   "outputs": [],
   "source": []
  }
 ],
 "metadata": {
  "kernelspec": {
   "display_name": "Python 3",
   "language": "python",
   "name": "python3"
  },
  "language_info": {
   "codemirror_mode": {
    "name": "ipython",
    "version": 3
   },
   "file_extension": ".py",
   "mimetype": "text/x-python",
   "name": "python",
   "nbconvert_exporter": "python",
   "pygments_lexer": "ipython3",
   "version": "3.8.5"
  }
 },
 "nbformat": 4,
 "nbformat_minor": 4
}
