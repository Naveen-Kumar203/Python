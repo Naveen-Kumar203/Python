{
  "nbformat": 4,
  "nbformat_minor": 0,
  "metadata": {
    "colab": {
      "name": "Untitled2.ipynb",
      "provenance": [],
      "collapsed_sections": [],
      "authorship_tag": "ABX9TyO/nw5WGDqa1ZK6xcFbcA48",
      "include_colab_link": true
    },
    "kernelspec": {
      "name": "python3",
      "display_name": "Python 3"
    }
  },
  "cells": [
    {
      "cell_type": "markdown",
      "metadata": {
        "id": "view-in-github",
        "colab_type": "text"
      },
      "source": [
        "<a href=\"https://colab.research.google.com/github/Naveen-Kumar203/Python/blob/main/Classes%20.ipynb\" target=\"_parent\"><img src=\"https://colab.research.google.com/assets/colab-badge.svg\" alt=\"Open In Colab\"/></a>"
      ]
    },
    {
      "cell_type": "code",
      "metadata": {
        "colab": {
          "base_uri": "https://localhost:8080/"
        },
        "id": "2r7HVVB3f0RS",
        "outputId": "85dc4533-a30b-443f-f67d-33035f4c508e"
      },
      "source": [
        "class Person:\r\n",
        "  def __init__(self, name, age):\r\n",
        "    self.name = name\r\n",
        "    self.age = age\r\n",
        "\r\n",
        "p1 = Person(\"Naveen\", 22)\r\n",
        "p2 = Person(\"Kumar\",22)\r\n",
        "\r\n",
        "print(\"First person name: \",p1.name)\r\n",
        "print(\"Age\",p1.age)\r\n",
        "print(\"second person name : \",p2.name)"
      ],
      "execution_count": 4,
      "outputs": [
        {
          "output_type": "stream",
          "text": [
            "First person name:  Naveen\n",
            "Age 22\n",
            "second person name :  Kumar\n"
          ],
          "name": "stdout"
        }
      ]
    }
  ]
}