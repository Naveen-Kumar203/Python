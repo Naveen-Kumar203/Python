{
  "nbformat": 4,
  "nbformat_minor": 0,
  "metadata": {
    "colab": {
      "name": "Return value task11.1.ipynb",
      "provenance": [],
      "collapsed_sections": [],
      "authorship_tag": "ABX9TyP2D+uoyGYsWQ9HLSiIIJzy",
      "include_colab_link": true
    },
    "kernelspec": {
      "name": "python3",
      "display_name": "Python 3"
    }
  },
  "cells": [
    {
      "cell_type": "markdown",
      "metadata": {
        "id": "view-in-github",
        "colab_type": "text"
      },
      "source": [
        "<a href=\"https://colab.research.google.com/github/Naveen-Kumar203/Python/blob/main/Return_value_task11_1.ipynb\" target=\"_parent\"><img src=\"https://colab.research.google.com/assets/colab-badge.svg\" alt=\"Open In Colab\"/></a>"
      ]
    },
    {
      "cell_type": "code",
      "metadata": {
        "id": "0OAN5x-VcEAw"
      },
      "source": [
        "# Return value\r\n",
        "#The Python return statement is a special statement that you can use inside a function or method to send the function’s result back to the caller. \r\n",
        "#A return statement consists of the return keyword followed by an optional return value.\r\n",
        "\r\n",
        "def add(num1, num2): \r\n",
        "    return num1 + num2  # here retrun the output value\r\n",
        "\r\n",
        "number_1 = int(input(\"Enter first number: \")) \r\n",
        "number_2 = int(input(\"Enter second number: \")) \r\n",
        "  \r\n",
        "if select == 1: \r\n",
        "    print(\"addition\",number_1, \"+\", number_2, \"=\", \r\n",
        "                    (number_1 + number_2)) \r\n",
        "  "
      ],
      "execution_count": null,
      "outputs": []
    }
  ]
}