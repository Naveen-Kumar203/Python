{
 "cells": [
  {
   "cell_type": "code",
   "execution_count": 3,
   "metadata": {},
   "outputs": [
    {
     "data": {
      "text/plain": [
       "2"
      ]
     },
     "execution_count": 3,
     "metadata": {},
     "output_type": "execute_result"
    }
   ],
   "source": [
    "#go through other inbuilt methods like remove(),count(),clear(),sort(),reverse()\n",
    "\n",
    "#count\n",
    "my_list = ['India','Austira','US','UK','UK']\n",
    "my_list.count('UK')\n"
   ]
  },
  {
   "cell_type": "code",
   "execution_count": 4,
   "metadata": {},
   "outputs": [
    {
     "name": "stdout",
     "output_type": "stream",
     "text": [
      "['Austira', 'US', 'UK', 'UK']\n"
     ]
    }
   ],
   "source": [
    "#remove\n",
    "my_list.remove('India')\n",
    "print(my_list)"
   ]
  },
  {
   "cell_type": "code",
   "execution_count": 5,
   "metadata": {},
   "outputs": [
    {
     "name": "stdout",
     "output_type": "stream",
     "text": [
      "['Austira', 'US', 'UK', 'UK', 'India']\n"
     ]
    }
   ],
   "source": [
    "my_list.append('India')\n",
    "print(my_list)"
   ]
  },
  {
   "cell_type": "code",
   "execution_count": 7,
   "metadata": {},
   "outputs": [
    {
     "name": "stdout",
     "output_type": "stream",
     "text": [
      "['Austira', 'India', 'UK', 'UK', 'US']\n"
     ]
    }
   ],
   "source": [
    "my_list.sort()\n",
    "print(my_list)"
   ]
  },
  {
   "cell_type": "code",
   "execution_count": 18,
   "metadata": {},
   "outputs": [
    {
     "name": "stdout",
     "output_type": "stream",
     "text": [
      "reverse sort: [77, 66, 55, 54, 20, 10, 10, 10, 5]\n",
      "Reverse Lists: [77, 66, 55, 54, 20, 10, 10, 10, 5]\n"
     ]
    }
   ],
   "source": [
    "lists=[5,10,20,10,10,54,66,77,55]\n",
    "lists.reverse()\n",
    "lists.sort(reverse=True)\n",
    "\n",
    "print(\"reverse sort:\",lists)\n",
    "print(\"Reverse Lists:\",lists)\n"
   ]
  },
  {
   "cell_type": "code",
   "execution_count": 20,
   "metadata": {},
   "outputs": [
    {
     "name": "stdout",
     "output_type": "stream",
     "text": [
      "clear: []\n",
      "first list: ['US', 'UK', 'UK', 'India', 'Austira']\n"
     ]
    }
   ],
   "source": [
    "lists.clear()\n",
    "print(\"clear:\",lists)\n",
    "print(\"first list:\",my_list)"
   ]
  },
  {
   "cell_type": "code",
   "execution_count": null,
   "metadata": {},
   "outputs": [],
   "source": []
  }
 ],
 "metadata": {
  "kernelspec": {
   "display_name": "Python 3",
   "language": "python",
   "name": "python3"
  },
  "language_info": {
   "codemirror_mode": {
    "name": "ipython",
    "version": 3
   },
   "file_extension": ".py",
   "mimetype": "text/x-python",
   "name": "python",
   "nbconvert_exporter": "python",
   "pygments_lexer": "ipython3",
   "version": "3.8.5"
  }
 },
 "nbformat": 4,
 "nbformat_minor": 4
}
