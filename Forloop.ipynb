{
  "nbformat": 4,
  "nbformat_minor": 0,
  "metadata": {
    "colab": {
      "name": "Forloop.ipynb",
      "provenance": [],
      "collapsed_sections": [],
      "authorship_tag": "ABX9TyNf7K5XOKqyUBuPmX1hgOte",
      "include_colab_link": true
    },
    "kernelspec": {
      "name": "python3",
      "display_name": "Python 3"
    }
  },
  "cells": [
    {
      "cell_type": "markdown",
      "metadata": {
        "id": "view-in-github",
        "colab_type": "text"
      },
      "source": [
        "<a href=\"https://colab.research.google.com/github/Naveen-Kumar203/Python/blob/main/Forloop.ipynb\" target=\"_parent\"><img src=\"https://colab.research.google.com/assets/colab-badge.svg\" alt=\"Open In Colab\"/></a>"
      ]
    },
    {
      "cell_type": "code",
      "metadata": {
        "colab": {
          "base_uri": "https://localhost:8080/"
        },
        "id": "MBNbbcc4Unwf",
        "outputId": "db283f5a-f21b-41c6-ae0f-386e1198a568"
      },
      "source": [
        "names = [\"Naveen\", \"Ram\", \"Kumar\"]\r\n",
        "print(\"For loop in List\")\r\n",
        "for x in names: #for loop in list\r\n",
        "  print(x)\r\n",
        "\r\n",
        "\r\n",
        "colors_dict = {'color': 'blue', 'fruit': 'apple', 'pet': 'dog'}\r\n",
        "print(\"For loop in Dict\")\r\n",
        "for key in colors_dict.keys():\r\n",
        "    print(key)\r\n",
        " \r\n",
        "for item in colors_dict.items():\r\n",
        "    print(item)\r\n",
        "\r\n",
        "\r\n",
        "\r\n",
        "names = {\"Naveen\", \"Ram\", \"Kumar\"}\r\n",
        "print(\"For loop in Sets\")\r\n",
        "for x in names: #for loop in list\r\n",
        "  print(x)\r\n"
      ],
      "execution_count": 5,
      "outputs": [
        {
          "output_type": "stream",
          "text": [
            "For loop in List\n",
            "Naveen\n",
            "Ram\n",
            "Kumar\n",
            "For loop in Dict\n",
            "color\n",
            "fruit\n",
            "pet\n",
            "('color', 'blue')\n",
            "('fruit', 'apple')\n",
            "('pet', 'dog')\n",
            "for loop in Sets\n",
            "blue\n",
            "green\n",
            "red\n",
            "For loop in Tuples\n",
            "Ram\n",
            "Kumar\n",
            "Naveen\n"
          ],
          "name": "stdout"
        }
      ]
    }
  ]
}