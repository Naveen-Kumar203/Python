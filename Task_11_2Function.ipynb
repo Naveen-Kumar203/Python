{
  "nbformat": 4,
  "nbformat_minor": 0,
  "metadata": {
    "colab": {
      "name": "Task 11.2Function.ipynb",
      "provenance": [],
      "collapsed_sections": [],
      "authorship_tag": "ABX9TyNl/ZTMyeynvgyxVVMFWIEn",
      "include_colab_link": true
    },
    "kernelspec": {
      "name": "python3",
      "display_name": "Python 3"
    }
  },
  "cells": [
    {
      "cell_type": "markdown",
      "metadata": {
        "id": "view-in-github",
        "colab_type": "text"
      },
      "source": [
        "<a href=\"https://colab.research.google.com/github/Naveen-Kumar203/Python/blob/main/Task_11_2Function.ipynb\" target=\"_parent\"><img src=\"https://colab.research.google.com/assets/colab-badge.svg\" alt=\"Open In Colab\"/></a>"
      ]
    },
    {
      "cell_type": "code",
      "metadata": {
        "colab": {
          "base_uri": "https://localhost:8080/"
        },
        "id": "2_9tvYucbK62",
        "outputId": "bebc035f-b9be-4949-fb1c-0b601e66f0d0"
      },
      "source": [
        " \r\n",
        "# Function to add two numbers  \r\n",
        "def add(num1, num2): \r\n",
        "    return num1 + num2 \r\n",
        "  \r\n",
        "# Function to subtract two numbers  \r\n",
        "def subtract(num1, num2): \r\n",
        "    return num1 - num2 \r\n",
        "  \r\n",
        "# Function to multiply two numbers \r\n",
        "def multiply(num1, num2): \r\n",
        "    return num1 * num2 \r\n",
        "  \r\n",
        "# Function to divide two numbers \r\n",
        "def divide(num1, num2): \r\n",
        "    return int(num1 / num2) \r\n",
        "  \r\n",
        "print(\"Please select operation -\\n\"  \r\n",
        "        \"1. Add\\n\" \r\n",
        "        \"2. Subtract\\n\"  \r\n",
        "        \"3. Multiply\\n\"  \r\n",
        "        \"4. Divide\\n\") \r\n",
        "  \r\n",
        "  \r\n",
        "# Take input from the user  \r\n",
        "select = int(input(\"Select operations form 1, 2, 3, 4 :\")) \r\n",
        "  \r\n",
        "number_1 = int(input(\"Enter first number: \")) \r\n",
        "number_2 = int(input(\"Enter second number: \")) \r\n",
        "  \r\n",
        "if select == 1: \r\n",
        "    print(number_1, \"+\", number_2, \"=\", \r\n",
        "                    add(number_1, number_2)) \r\n",
        "  \r\n",
        "elif select == 2: \r\n",
        "    print(number_1, \"-\", number_2, \"=\", \r\n",
        "                    subtract(number_1, number_2)) \r\n",
        "  \r\n",
        "elif select == 3: \r\n",
        "    print(number_1, \"*\", number_2, \"=\", \r\n",
        "                    multiply(number_1, number_2)) \r\n",
        "  \r\n",
        "elif select == 4: \r\n",
        "    print(number_1, \"/\", number_2, \"=\", \r\n",
        "                    divide(number_1, number_2)) \r\n",
        "else: \r\n",
        "    print(\"Invalid input\") "
      ],
      "execution_count": 2,
      "outputs": [
        {
          "output_type": "stream",
          "text": [
            "Please select operation -\n",
            "1. Add\n",
            "2. Subtract\n",
            "3. Multiply\n",
            "4. Divide\n",
            "\n",
            "Select operations form 1, 2, 3, 4 :4\n",
            "Enter first number: 100\n",
            "Enter second number: 5\n",
            "100 / 5 = 20\n"
          ],
          "name": "stdout"
        }
      ]
    }
  ]
}