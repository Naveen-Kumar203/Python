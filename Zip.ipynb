{
  "nbformat": 4,
  "nbformat_minor": 0,
  "metadata": {
    "colab": {
      "name": "Zip.ipynb",
      "provenance": [],
      "collapsed_sections": [],
      "authorship_tag": "ABX9TyMlIxr0NE3VBLvwbZfpeEZa",
      "include_colab_link": true
    },
    "kernelspec": {
      "name": "python3",
      "display_name": "Python 3"
    }
  },
  "cells": [
    {
      "cell_type": "markdown",
      "metadata": {
        "id": "view-in-github",
        "colab_type": "text"
      },
      "source": [
        "<a href=\"https://colab.research.google.com/github/Naveen-Kumar203/Python/blob/main/Zip.ipynb\" target=\"_parent\"><img src=\"https://colab.research.google.com/assets/colab-badge.svg\" alt=\"Open In Colab\"/></a>"
      ]
    },
    {
      "cell_type": "code",
      "metadata": {
        "colab": {
          "base_uri": "https://localhost:8080/"
        },
        "id": "sER_4CtjPPbJ",
        "outputId": "af530f9b-20b6-4634-d264-82fd38294e2b"
      },
      "source": [
        "names = [\"Naveen\",\"Kumar\", \"Raaj\"]\r\n",
        "last_game = [1,4,9]\r\n",
        "previous_game = [3,4,5]\r\n",
        "\r\n",
        "player_performance = list( zip( names, last_game, previous_game ) )\r\n",
        "print(player_performance)"
      ],
      "execution_count": 6,
      "outputs": [
        {
          "output_type": "stream",
          "text": [
            "[('Naveen', 1, 3), ('Kumar', 4, 4), ('Raaj', 9, 5)]\n"
          ],
          "name": "stdout"
        }
      ]
    }
  ]
}