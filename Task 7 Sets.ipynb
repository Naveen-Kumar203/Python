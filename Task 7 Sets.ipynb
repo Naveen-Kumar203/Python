{
 "cells": [
  {
   "cell_type": "markdown",
   "metadata": {},
   "source": [
    "## Sets\n",
    "### Symmetric difference\n"
   ]
  },
  {
   "cell_type": "code",
   "execution_count": 2,
   "metadata": {},
   "outputs": [
    {
     "name": "stdout",
     "output_type": "stream",
     "text": [
      "{'Aus', 'US', 'UK'}\n"
     ]
    }
   ],
   "source": [
    "\n",
    "Set1 = {'Ind', 'Aus', 'Eng', 'US'}\n",
    "Set2 = {'UK', 'Ind', 'Eng' }\n",
    "#Symmetric difference gives the output of both sets bot not common elements\n",
    "\n",
    "print(Set1.symmetric_difference(Set2))\n"
   ]
  },
  {
   "cell_type": "markdown",
   "metadata": {},
   "source": [
    "### Difference"
   ]
  },
  {
   "cell_type": "code",
   "execution_count": 9,
   "metadata": {},
   "outputs": [
    {
     "name": "stdout",
     "output_type": "stream",
     "text": [
      "Gives output of A-B {'US', 'Aus'}\n",
      "Gives output of B-A {'UK'}\n"
     ]
    }
   ],
   "source": [
    "Se1 = {'Ind', 'Aus', 'Eng', 'US'}\n",
    "Se2 = {'UK', 'Ind', 'Eng'}\n",
    "#Difference gives the output of first set and removes the common elements in both sets and other sets\n",
    "\n",
    "print(\"Gives output of Se1-Se2\",Se1.difference(Se2))\n",
    "print(\"Gives output of Se2-Se1\",Se2.difference(Se1))"
   ]
  },
  {
   "cell_type": "code",
   "execution_count": null,
   "metadata": {},
   "outputs": [],
   "source": []
  }
 ],
 "metadata": {
  "kernelspec": {
   "display_name": "Python 3",
   "language": "python",
   "name": "python3"
  },
  "language_info": {
   "codemirror_mode": {
    "name": "ipython",
    "version": 3
   },
   "file_extension": ".py",
   "mimetype": "text/x-python",
   "name": "python",
   "nbconvert_exporter": "python",
   "pygments_lexer": "ipython3",
   "version": "3.8.5"
  }
 },
 "nbformat": 4,
 "nbformat_minor": 4
}
