{
  "nbformat": 4,
  "nbformat_minor": 0,
  "metadata": {
    "colab": {
      "name": "Print pattern.ipynb",
      "provenance": [],
      "collapsed_sections": [],
      "authorship_tag": "ABX9TyNSoUgVJYXsmqZcDuPSxgVf",
      "include_colab_link": true
    },
    "kernelspec": {
      "name": "python3",
      "display_name": "Python 3"
    }
  },
  "cells": [
    {
      "cell_type": "markdown",
      "metadata": {
        "id": "view-in-github",
        "colab_type": "text"
      },
      "source": [
        "<a href=\"https://colab.research.google.com/github/Naveen-Kumar203/Python/blob/main/Print_pattern%20TAsk%2012.ipynb\" target=\"_parent\"><img src=\"https://colab.research.google.com/assets/colab-badge.svg\" alt=\"Open In Colab\"/></a>"
      ]
    },
    {
      "cell_type": "code",
      "metadata": {
        "colab": {
          "base_uri": "https://localhost:8080/"
        },
        "id": "PPSyuTxntOEG",
        "outputId": "11dc8e97-2318-4c5a-d344-034941298999"
      },
      "source": [
        "# function to print the pattern \r\n",
        "def pattern(n): \r\n",
        "  \r\n",
        "    # traverse through the elements \r\n",
        "    # in n assuming it as a string \r\n",
        "    if n == \"0\":\r\n",
        "      print(\"enter a postive value\" )\r\n",
        "    else:\r\n",
        "      for i in n: \r\n",
        "  \r\n",
        "        # print | for every line \r\n",
        "        print(\"|\", end = \"\") \r\n",
        "  \r\n",
        "        # print i number of * s in  \r\n",
        "        # each line \r\n",
        "        print(\"*\" * int(i)) \r\n",
        "  \r\n",
        "# get the input as string         \r\n",
        "n = \"5\"\r\n",
        "pattern(n)"
      ],
      "execution_count": 20,
      "outputs": [
        {
          "output_type": "stream",
          "text": [
            "|*****\n"
          ],
          "name": "stdout"
        }
      ]
    }
  ]
}